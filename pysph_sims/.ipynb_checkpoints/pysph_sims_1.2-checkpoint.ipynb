{
 "cells": [
  {
   "cell_type": "markdown",
   "metadata": {
    "deletable": true,
    "editable": true
   },
   "source": [
    "# Dam Break 2D \n",
    "\n",
    "- Fluid height = 2\n",
    "- Fluid width = 1.0\n",
    "- Container height = 4\n",
    "- Container width = 4\n",
    "- Assume g=9.81 m/s\n",
    "\n",
    "- Use 2-3 layers of particles for the boundary\n",
    "\n",
    "\n",
    "```\n",
    "    |                         |\n",
    "    |                         |           \n",
    "    |   1                     |\n",
    "    |*******                  |   4     \n",
    "    |*******                  |\n",
    "    |*******  2               |\n",
    "    |*******                  |\n",
    "    ---------------------------\n",
    "    \n",
    "                 4\n",
    "```\n",
    "\n",
    "- fluid_column_height = 2.0\n",
    "- fluid_column_width = 1.0\n",
    "- container_height = 4.0\n",
    "- container_width = 4.0\n",
    "- nboundary_layers = 2\n",
    "- nu = 0.0\n",
    "- h = 0.039\n",
    "- g = 9.81\n",
    "- ro = 1000.0\n",
    "- co = 10.0 * np.sqrt(2 * 9.81 * fluid_column_height)\n",
    "- gamma = 7.0\n",
    "- alpha = 0.1\n",
    "- beta = 0.0\n",
    "- B = co * co * ro / gamma\n",
    "- p0 = 1000.0\n",
    "\n"
   ]
  },
  {
   "cell_type": "code",
   "execution_count": 1,
   "metadata": {
    "collapsed": false,
    "deletable": true,
    "editable": true
   },
   "outputs": [
    {
     "name": "stdout",
     "output_type": "stream",
     "text": [
      "Generating output in /Users/apple/notebooks/Notebooks/pysph_sims/dam_break_output\n",
      "Precompiled code from: /Users/apple/.pysph/source/py2.7-macosx-10.9-x86_64/m_daccacc21207ceca2d2e41bc96358cc5.pyx\n",
      "Setup took: 5.23032 secs\n",
      "100%\n",
      "Run took: 33.64010 secs\n"
     ]
    }
   ],
   "source": [
    "import numpy as np\n",
    "\n",
    "from pysph.solver.application import Application\n",
    "from pysph.base.utils import get_particle_array\n",
    "from pysph.sph.scheme import WCSPHScheme  \n",
    "from matplotlib import pyplot as plt\n",
    "\n",
    "\n",
    "\n",
    "class DamBreak2d(Application):\n",
    "    def create_particles(self):\n",
    "        \n",
    "        ####### Geometry ######\n",
    "        x = np.linspace(0,1,40)\n",
    "        y = np.linspace(0,2,40)\n",
    "        xm_fluid, ym_fluid = np.meshgrid(x, y)\n",
    "        x_s_h = np.linspace(0.025/4,4,80)\n",
    "        y_s_h = np.linspace(-0.025, 0, 3)\n",
    "        x_s_v = np.linspace(-0.025, 0, 3)\n",
    "        y_s_v = np.linspace(0,4,80)\n",
    "        x_s_v_e = np.linspace(4, 4.025, 3)\n",
    "        y_s_v_e = np.linspace(0,4,80)\n",
    "        v_b_x, v_b_y = np.meshgrid(x_s_v, y_s_v)\n",
    "        v_h_x, v_h_y = np.meshgrid(x_s_h, y_s_h)\n",
    "        b3x, b3y = np.meshgrid(x_s_v_e, y_s_v_e)\n",
    "\n",
    "        b1x, b1y = v_b_x, v_b_y\n",
    "        b2x, b2y = v_h_x, v_h_y\n",
    "        dx = 0.025\n",
    "        h = 1.3*dx\n",
    "        pa_solid_1 = get_particle_array(name='solid', x=b1x, y=b1y)\n",
    "        pa_solid_2 = get_particle_array(name='solid', x=b2x, y=b2y)\n",
    "        pa_solid_3 = get_particle_array(name='solid', x=b3x, y=b3y)\n",
    "        bx, by = list(pa_solid_1.x.ravel())+list(pa_solid_2.x.ravel())+list(pa_solid_3.x.ravel()),\\\n",
    "        list(pa_solid_1.y.ravel())+list(pa_solid_2.y.ravel())+list(pa_solid_3.y.ravel())\n",
    "        \n",
    "        ###### Defining the arrays which are going to be used #######\n",
    "        \n",
    "        pa_solid = get_particle_array(name='solid', x=bx, y=by, rho=1100.0, h=h, m = 1100*dx*dx, p0=1000)\n",
    "        pa_fluid = get_particle_array(name='fluid', x=xm_fluid+(0.25*dx), y=ym_fluid+(0.25*dx), \\\n",
    "                                      rho=1000.0, h=h, m = 1000*dx*dx, p0=1000)\n",
    "\n",
    "        self.scheme.setup_properties([pa_fluid, pa_solid])\n",
    "        return [pa_fluid, pa_solid]\n",
    "    \n",
    "        \n",
    "    \n",
    "    def create_scheme(self):\n",
    "        s = WCSPHScheme(\n",
    "            ['fluid'], ['solid'], dim=2, rho0=1000.0, c0=10*(40**0.5),\n",
    "            h0=1.3*0.025, hdx=1.3, gamma=7.0, alpha=0.1, beta=0.0, gy=-9.81, hg_correction=True, update_h=True, nu=0.0, \n",
    "        )\n",
    "        dt = 0.000644841269841269\n",
    "        tf = 1\n",
    "        s.configure_solver(\n",
    "            dt=dt, tf=tf, n_damp=100, adaptive_timestep=True, fixed_h=False\n",
    "        )\n",
    "        return s \n",
    "        \n",
    "\n",
    "    \n",
    "app = DamBreak2d(fname='dam_break')\n",
    "app.run()"
   ]
  },
  {
   "cell_type": "code",
   "execution_count": 2,
   "metadata": {
    "collapsed": false,
    "deletable": true,
    "editable": true
   },
   "outputs": [
    {
     "data": {
      "application/vnd.jupyter.widget-view+json": {
       "model_id": "4af161a1d43f4f83974928b3e6c115df",
       "version_major": 2,
       "version_minor": 0
      },
      "text/plain": [
       "Q2FudmFzKHRvb2xiYXI9VG9vbGJhcih0b29saXRlbXM9Wyh1J0hvbWUnLCB1J1Jlc2V0IG9yaWdpbmFsIHZpZXcnLCAnaG9tZScsIHUnaG9tZScpLCAodSdCYWNrJywgdSdCYWNrIHRvICBwcmXigKY=\n"
      ]
     },
     "metadata": {},
     "output_type": "display_data"
    },
    {
     "data": {
      "application/vnd.jupyter.widget-view+json": {
       "model_id": "8bb0f95fd7b94a45af926052111f78ca",
       "version_major": 2,
       "version_minor": 0
      },
      "text/plain": [
       "VkJveChjaGlsZHJlbj0oSEJveChjaGlsZHJlbj0oVkJveChjaGlsZHJlbj0oSFRNTCh2YWx1ZT11JzxiPlNPTElEPC9iPicpLCBEcm9wZG93bihkZXNjcmlwdGlvbj11J3NjYWxhcicsIGluZGXigKY=\n"
      ]
     },
     "metadata": {},
     "output_type": "display_data"
    }
   ],
   "source": [
    "%matplotlib widget\n",
    "\n",
    "from pysph.tools import ipy_viewer as ipy\n",
    "new_sim = ipy.Viewer2D('dam_break_output/')\n",
    "new_sim.interactive_plot()"
   ]
  },
  {
   "cell_type": "code",
   "execution_count": null,
   "metadata": {
    "collapsed": true
   },
   "outputs": [],
   "source": []
  }
 ],
 "metadata": {
  "kernelspec": {
   "display_name": "Python 2",
   "language": "python",
   "name": "python2"
  },
  "language_info": {
   "codemirror_mode": {
    "name": "ipython",
    "version": 2
   },
   "file_extension": ".py",
   "mimetype": "text/x-python",
   "name": "python",
   "nbconvert_exporter": "python",
   "pygments_lexer": "ipython2",
   "version": "2.7.15"
  }
 },
 "nbformat": 4,
 "nbformat_minor": 2
}
