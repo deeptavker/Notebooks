{
 "cells": [
  {
   "cell_type": "markdown",
   "metadata": {
    "deletable": true,
    "editable": true
   },
   "source": [
    "# A simple simulation from given examples in PySPH on Jupyter Notebook\n",
    "\n",
    "Setup required :\n",
    "\n",
    "- [PySPH](https://pysph.readthedocs.io/en/latest/index.html) \n",
    "- jupyter notebook \n",
    "- ipywidgets \n",
    "- ipympl \n",
    "- numpy\n",
    "\n",
    "### Run the following commands for installation. \n",
    "\n",
    "- pip install numpy\n",
    "- pip install pysph\n",
    "- pip install jupyter\n",
    "- pip install ipywidgets\n",
    "- pip install ipympl\n",
    "- jupyter nbextension enable --py widgetsnbextension\n",
    "- jupyter nbextension enable --py --sys-prefix ipympl\n"
   ]
  },
  {
   "cell_type": "code",
   "execution_count": null,
   "metadata": {
    "collapsed": false,
    "deletable": true,
    "editable": true
   },
   "outputs": [],
   "source": [
    "\"\"\"Evolution of a circular patch of incompressible fluid. (30 seconds)\n",
    "\n",
    "This is the simplest implementation using existing schemes.\n",
    "\n",
    "See J. J. Monaghan \"Simulating Free Surface Flows with SPH\", JCP, 1994, 100, pp\n",
    "399 - 406\n",
    "\"\"\"\n",
    "from __future__ import print_function\n",
    "\n",
    "from numpy import ones_like, mgrid, sqrt\n",
    "\n",
    "from pysph.base.utils import get_particle_array\n",
    "from pysph.solver.application import Application\n",
    "from pysph.sph.scheme import WCSPHScheme\n",
    "\n",
    "\n",
    "class EllipticalDrop(Application):\n",
    "    def initialize(self):\n",
    "        self.co = 1400.0\n",
    "        self.ro = 1.0\n",
    "        self.hdx = 1.3\n",
    "        self.dx = 0.025\n",
    "        self.alpha = 0.1\n",
    "\n",
    "    def create_scheme(self):\n",
    "        s = WCSPHScheme(\n",
    "            ['fluid'], [], dim=2, rho0=self.ro, c0=self.co,\n",
    "            h0=self.dx*self.hdx, hdx=self.hdx, gamma=7.0, alpha=0.1, beta=0.0\n",
    "        )\n",
    "        dt = 5e-6\n",
    "        tf = 0.0076\n",
    "        s.configure_solver(dt=dt, tf=tf)\n",
    "        return s\n",
    "\n",
    "    def create_particles(self):\n",
    "        \"\"\"Create the circular patch of fluid.\"\"\"\n",
    "        dx = self.dx\n",
    "        hdx = self.hdx\n",
    "        ro = self.ro\n",
    "        name = 'fluid'\n",
    "        x, y = mgrid[-1.05:1.05+1e-4:dx, -1.05:1.05+1e-4:dx]\n",
    "        x = x.ravel()\n",
    "        y = y.ravel()\n",
    "\n",
    "        m = ones_like(x)*dx*dx*ro\n",
    "        h = ones_like(x)*hdx*dx\n",
    "        rho = ones_like(x) * ro\n",
    "        u = -100*x\n",
    "        v = 100*y\n",
    "\n",
    "        # remove particles outside the circle\n",
    "        indices = []\n",
    "        for i in range(len(x)):\n",
    "            if sqrt(x[i]*x[i] + y[i]*y[i]) - 1 > 1e-10:\n",
    "                indices.append(i)\n",
    "\n",
    "        pa = get_particle_array(x=x, y=y, m=m, rho=rho, h=h, u=u, v=v,\n",
    "                                name=name)\n",
    "        pa.remove_particles(indices)\n",
    "\n",
    "        print(\"Elliptical drop :: %d particles\"\n",
    "              % (pa.get_number_of_particles()))\n",
    "\n",
    "        self.scheme.setup_properties([pa])\n",
    "        return [pa]\n",
    "\n",
    "\n",
    "\n",
    "app = EllipticalDrop()\n",
    "app.run()\n"
   ]
  },
  {
   "cell_type": "markdown",
   "metadata": {
    "deletable": true,
    "editable": true
   },
   "source": [
    "# The following code is for post processing"
   ]
  },
  {
   "cell_type": "code",
   "execution_count": null,
   "metadata": {
    "collapsed": false,
    "deletable": true,
    "editable": true
   },
   "outputs": [],
   "source": [
    "from pysph.tools import ipy_viewer\n",
    "new_sim = ipy_viewer.Viewer2D('__main___output')"
   ]
  },
  {
   "cell_type": "code",
   "execution_count": null,
   "metadata": {
    "collapsed": false,
    "deletable": true,
    "editable": true
   },
   "outputs": [],
   "source": [
    "%matplotlib ipympl\n",
    "new_sim.interactive_plot()"
   ]
  }
 ],
 "metadata": {
  "kernelspec": {
   "display_name": "Python 2",
   "language": "python",
   "name": "python2"
  },
  "language_info": {
   "codemirror_mode": {
    "name": "ipython",
    "version": 2
   },
   "file_extension": ".py",
   "mimetype": "text/x-python",
   "name": "python",
   "nbconvert_exporter": "python",
   "pygments_lexer": "ipython2",
   "version": "2.7.15"
  }
 },
 "nbformat": 4,
 "nbformat_minor": 2
}
