{
 "cells": [
  {
   "cell_type": "markdown",
   "metadata": {
    "deletable": true,
    "editable": true
   },
   "source": [
    "# PySPH tutorial: Getting started\n",
    "\n",
    "*Prabhu Ramachandran*\n",
    "\n",
    "Department of Aerospace Engineering, IIT Bombay\n",
    "\n",
    "----\n"
   ]
  },
  {
   "cell_type": "markdown",
   "metadata": {
    "deletable": true,
    "editable": true
   },
   "source": [
    "## Installation and getting started\n",
    "\n",
    "This is a simple introduction to PySPH.  The PySPH documentation is here: http://pysph.readthedocs.io\n",
    "\n",
    "1. First install PySPH.  See here: http://pysph.readthedocs.io/en/latest/installation.html\n",
    "2. Go over the installation and getting started page\n",
    "\n",
    "\n",
    "Importantly, once you have PySPH installed run a simple example, as so:\n",
    "\n",
    "    $ pysph run elliptical_drop\n",
    "    \n",
    "or\n",
    "\n",
    "    $ pysph run rigid_body.bouncing_cubes\n",
    "    \n",
    "    \n",
    "Then view the generated output:\n",
    "\n",
    "    $ pysph view elliptical_drop_output\n",
    "    \n",
    "    \n",
    "If this produces a nice looking view, you should be mostly set.  It may be handy to be able to run pysph on openmp:\n",
    "\n",
    "    $ pysph run elliptical_drop --openmp\n",
    "\n",
    "If you get this far and everything works, you should be in good shape.\n"
   ]
  },
  {
   "cell_type": "markdown",
   "metadata": {
    "deletable": true,
    "editable": true
   },
   "source": [
    "## More on the examples\n",
    "\n",
    "\n",
    "The examples are all written in pure Python.  To see the sources for the examples you could either visit the github sources here: https://github.com/pypr/pysph/tree/master/pysph/examples\n",
    "\n",
    "Alternatively try this:\n",
    "\n",
    "    $ pysph run\n",
    "    \n",
    "Now you can pick among 40 odd examples.  To see the source of a simple one you can do the following:\n",
    "\n",
    "\n",
    "    $ pysph run --cat elliptical_drop\n",
    "    \n",
    "    \n",
    "This will simply show you the source code without executing it.  You could have also run the example by changing directory into the `<pysph_root>/pysph/examples` directory and running the example, for example let us do this easily as follows:\n",
    "\n",
    "\n",
    "    $ pysph run --cat elliptical_drop > ed.py    # This puts the source into ed.py in the current dir.\n",
    "    \n",
    "    $ python ed.py\n",
    "    \n",
    "**NOTE: **  there is also a `<pysph_root>/old_examples` directory which you should not use.\n",
    "    \n",
    "You can also import the examples from Python and thus could just as well have run this example as:\n",
    "\n",
    "    $ python -m pysph.examples.elliptical_drop\n",
    "\n",
    "\n",
    "The point I am making is that `pysph run` is not doing anything special at all, it just makes it a tad easier to run the examples.  These examples are usually quite useful and can also be subclassed if you wish to reuse them.\n",
    "\n"
   ]
  },
  {
   "cell_type": "markdown",
   "metadata": {
    "deletable": true,
    "editable": true
   },
   "source": [
    "\n",
    "### Using the PySPH library\n",
    "\n",
    "\n",
    "In order to simulate your own problems you need to understand the anatomy of a PySPH simulation.  All the examples typically will do the following:\n",
    "\n",
    "1. Create some particles\n",
    "2. Specify the equations for the inter-particle interactions.\n",
    "3. Specify the integrators to use.\n",
    "4. Put these together in an `Application` and run this application.\n",
    "\n",
    "\n",
    "### Creating particles\n",
    "\n",
    "\n",
    "In this tutorial we will mostly explore the creation of particles in PySPH.  In PySPH, particles are created in a data structure called a `ParticleArray`.  Let us consider an example.  Let us say we have a glass of water.  Clearly we have two \"things\", a glass vessel and the water inside it.  Since we wish to capture the interaction of the water with the vessel, we would create two `ParticleArray`s.  One for the vessel which we call `\"solid\"` and the other for the water which we call `\"fluid\"`.  \n",
    "\n",
    "Some important points to note.  Each particle array \n",
    "\n",
    "- has a name (a string) which should be a valid Python variable name, `\"fluid\"` and `\"solid\"` are good as would be `\"fluid1\"` and `\"fluid2\"`.\n",
    "\n",
    "- has a collection of various particle properties, like the position `x, y, z`, velocity components `u, v, w`, other scalar properties `m, h, rho` etc.  All of these properties are scalars.\n",
    "\n",
    "- has a collection of \"constants\", which can have an arbitrary size but are internally stored as 1D arrays.\n",
    "\n",
    "The properties are used for things that typically vary, from particle to particle.\n",
    "\n",
    "The constants are used for things that are constant for all the particles.\n",
    "\n",
    "Let us now try to create a particle array in order to understand it better.\n"
   ]
  },
  {
   "cell_type": "code",
   "execution_count": 2,
   "metadata": {
    "collapsed": true,
    "deletable": true,
    "editable": true
   },
   "outputs": [],
   "source": [
    "from __future__ import print_function"
   ]
  },
  {
   "cell_type": "code",
   "execution_count": 3,
   "metadata": {
    "collapsed": true,
    "deletable": true,
    "editable": true
   },
   "outputs": [],
   "source": [
    "from pysph.base.particle_array import ParticleArray"
   ]
  },
  {
   "cell_type": "code",
   "execution_count": 4,
   "metadata": {
    "collapsed": false,
    "deletable": true,
    "editable": true
   },
   "outputs": [
    {
     "name": "stdout",
     "output_type": "stream",
     "text": [
      "fluid [0. 1.] [0. 0.] [0.1 0.1]\n"
     ]
    }
   ],
   "source": [
    "pa = ParticleArray(name='fluid', x=[0.0, 1.0], y=0, m=0.1)\n",
    "print(pa.name, pa.x, pa.y, pa.m)"
   ]
  },
  {
   "cell_type": "markdown",
   "metadata": {
    "deletable": true,
    "editable": true
   },
   "source": [
    "Note that we set the name by a kwarg. \n",
    "\n",
    "#### Exercise\n",
    "\n",
    "- Try creating a particle array without the name.\n",
    "- While x was passed as a list, y and m were not, what is going on?\n",
    "- Does this work with numpy arrays?  Try it!\n",
    "- Does it work with numpy arrays of arbitrary shape?\n",
    "- What if you have arrays passed of different sizes?!\n",
    "- Can you add a new \"crazy\" property?\n"
   ]
  },
  {
   "cell_type": "code",
   "execution_count": 4,
   "metadata": {
    "collapsed": false,
    "deletable": true,
    "editable": true
   },
   "outputs": [],
   "source": [
    "import numpy as np\n",
    "newpa = ParticleArray(name='something', y=np.ones((2,2,2)),x=3)"
   ]
  },
  {
   "cell_type": "code",
   "execution_count": 5,
   "metadata": {
    "collapsed": false,
    "deletable": true,
    "editable": true
   },
   "outputs": [
    {
     "data": {
      "text/plain": [
       "array([1., 1., 1., 1., 1., 1., 1., 1.])"
      ]
     },
     "execution_count": 5,
     "metadata": {},
     "output_type": "execute_result"
    }
   ],
   "source": [
    "newpa.y"
   ]
  },
  {
   "cell_type": "code",
   "execution_count": null,
   "metadata": {
    "collapsed": true,
    "deletable": true,
    "editable": true
   },
   "outputs": [],
   "source": []
  },
  {
   "cell_type": "markdown",
   "metadata": {
    "deletable": true,
    "editable": true
   },
   "source": [
    "#### Solution\n",
    "\n",
    "- You can create a particle array without a name but DON'T.\n",
    "- NumPy arrays work and are ravelled, lists and constants work.\n",
    "- Passing incompatible sizes is a problem and you will get an error.\n",
    "- You can add any kind of property by passing a suitable kwarg."
   ]
  },
  {
   "cell_type": "code",
   "execution_count": 6,
   "metadata": {
    "collapsed": true,
    "deletable": true,
    "editable": true
   },
   "outputs": [],
   "source": [
    "pa = ParticleArray(name='fluid', x=[0.0, 1.0], y=0, m=0.1, crazy=25)"
   ]
  },
  {
   "cell_type": "code",
   "execution_count": 7,
   "metadata": {
    "collapsed": false,
    "deletable": true,
    "editable": true
   },
   "outputs": [
    {
     "data": {
      "text/plain": [
       "array([25., 25.])"
      ]
     },
     "execution_count": 7,
     "metadata": {},
     "output_type": "execute_result"
    }
   ],
   "source": [
    "pa.crazy"
   ]
  },
  {
   "cell_type": "markdown",
   "metadata": {
    "deletable": true,
    "editable": true
   },
   "source": [
    "### Doing more\n",
    "\n",
    "- How do we discover the properties?\n",
    "- Use `pa.properties`\n",
    "- What about constants?\n"
   ]
  },
  {
   "cell_type": "code",
   "execution_count": 8,
   "metadata": {
    "collapsed": false,
    "deletable": true,
    "editable": true
   },
   "outputs": [
    {
     "data": {
      "text/plain": [
       "{'crazy': <pyzoltan.core.carray.DoubleArray at 0x11718a9b0>,\n",
       " 'gid': <pyzoltan.core.carray.UIntArray at 0x1171a40c0>,\n",
       " 'm': <pyzoltan.core.carray.DoubleArray at 0x11718ae60>,\n",
       " 'pid': <pyzoltan.core.carray.IntArray at 0x1171a4050>,\n",
       " 'tag': <pyzoltan.core.carray.IntArray at 0x117174fa0>,\n",
       " 'x': <pyzoltan.core.carray.DoubleArray at 0x11718aaa0>,\n",
       " 'y': <pyzoltan.core.carray.DoubleArray at 0x11718a848>}"
      ]
     },
     "execution_count": 8,
     "metadata": {},
     "output_type": "execute_result"
    }
   ],
   "source": [
    "pa.properties"
   ]
  },
  {
   "cell_type": "markdown",
   "metadata": {
    "deletable": true,
    "editable": true
   },
   "source": [
    "So what are the other strange properties?  We didn't add `gid, pid and tag`\n",
    "\n",
    "So it looks like PySPH automatically adds some special props, what are these?  \n",
    "\n",
    "- gid: is a global ID for each particle, it is useful in parallel.\n",
    "- pid: represents the process ID for each particle, also relevant in parallel.\n",
    "- tag: represents the kind of particle we have.\n",
    "\n",
    "The `tag` property is probably the most useful.  It is representative of the kind of particles, the ones that are important are:\n",
    "\n",
    "- Local: see `get_local_tag` below\n",
    "- Remote: see `get_remote_tag` below\n",
    "- Ghost: see `get_ghost_tag` below\n",
    "\n",
    "\n",
    "**Questions**\n",
    "\n",
    "- What is this pyzoltan stuff??  \n",
    "- What is a DoubleArray, IntArray?  \n",
    "\n"
   ]
  },
  {
   "cell_type": "code",
   "execution_count": 9,
   "metadata": {
    "collapsed": false,
    "deletable": true,
    "editable": true
   },
   "outputs": [
    {
     "data": {
      "text/plain": [
       "array([4294967295, 4294967295], dtype=uint32)"
      ]
     },
     "execution_count": 9,
     "metadata": {},
     "output_type": "execute_result"
    }
   ],
   "source": [
    "pa.gid"
   ]
  },
  {
   "cell_type": "code",
   "execution_count": 10,
   "metadata": {
    "collapsed": false,
    "deletable": true,
    "editable": true
   },
   "outputs": [
    {
     "data": {
      "text/plain": [
       "array([0, 0], dtype=int32)"
      ]
     },
     "execution_count": 10,
     "metadata": {},
     "output_type": "execute_result"
    }
   ],
   "source": [
    "pa.pid"
   ]
  },
  {
   "cell_type": "code",
   "execution_count": 11,
   "metadata": {
    "collapsed": false,
    "deletable": true,
    "editable": true
   },
   "outputs": [
    {
     "data": {
      "text/plain": [
       "array([0, 0], dtype=int32)"
      ]
     },
     "execution_count": 11,
     "metadata": {},
     "output_type": "execute_result"
    }
   ],
   "source": [
    "pa.tag"
   ]
  },
  {
   "cell_type": "code",
   "execution_count": 12,
   "metadata": {
    "collapsed": true,
    "deletable": true,
    "editable": true
   },
   "outputs": [],
   "source": [
    "from pysph.base.particle_array import get_local_tag, get_ghost_tag, get_remote_tag"
   ]
  },
  {
   "cell_type": "code",
   "execution_count": 13,
   "metadata": {
    "collapsed": false,
    "deletable": true,
    "editable": true
   },
   "outputs": [
    {
     "name": "stdout",
     "output_type": "stream",
     "text": [
      "Local: 0\n",
      "Remote: 1\n",
      "Ghost: 2\n"
     ]
    }
   ],
   "source": [
    "print(\"Local:\", get_local_tag())\n",
    "print(\"Remote:\", get_remote_tag())\n",
    "print(\"Ghost:\", get_ghost_tag())"
   ]
  },
  {
   "cell_type": "markdown",
   "metadata": {
    "deletable": true,
    "editable": true
   },
   "source": [
    "#### Digression CArrays\n",
    "\n",
    "Let us answer the question \"What is this pyzoltan, DoubleArray stuff?\"\n",
    "\n",
    "These are internal arrays that allow us to efficiently store and compute with these properties and have some useful features."
   ]
  },
  {
   "cell_type": "code",
   "execution_count": 14,
   "metadata": {
    "collapsed": true,
    "deletable": true,
    "editable": true
   },
   "outputs": [],
   "source": [
    "from pyzoltan.core.carray import DoubleArray"
   ]
  },
  {
   "cell_type": "code",
   "execution_count": 15,
   "metadata": {
    "collapsed": true,
    "deletable": true,
    "editable": true
   },
   "outputs": [],
   "source": [
    "a = DoubleArray(5)\n",
    "x = a.get_npy_array()\n",
    "x[:] = 100"
   ]
  },
  {
   "cell_type": "code",
   "execution_count": 16,
   "metadata": {
    "collapsed": false,
    "deletable": true,
    "editable": true
   },
   "outputs": [
    {
     "data": {
      "text/plain": [
       "100.0"
      ]
     },
     "execution_count": 16,
     "metadata": {},
     "output_type": "execute_result"
    }
   ],
   "source": [
    "a[1]"
   ]
  },
  {
   "cell_type": "code",
   "execution_count": 17,
   "metadata": {
    "collapsed": false,
    "deletable": true,
    "editable": true
   },
   "outputs": [
    {
     "data": {
      "text/plain": [
       "6"
      ]
     },
     "execution_count": 17,
     "metadata": {},
     "output_type": "execute_result"
    }
   ],
   "source": [
    "a.append(203)\n",
    "a.length"
   ]
  },
  {
   "cell_type": "markdown",
   "metadata": {
    "deletable": true,
    "editable": true
   },
   "source": [
    "#### Exercise\n",
    "\n",
    "- Find the default properties.\n",
    "- Can you create a particle array with no properties in the constructor?"
   ]
  },
  {
   "cell_type": "code",
   "execution_count": 18,
   "metadata": {
    "collapsed": true,
    "deletable": true,
    "editable": true
   },
   "outputs": [],
   "source": [
    "empty = ParticleArray(name='dummy')"
   ]
  },
  {
   "cell_type": "code",
   "execution_count": 19,
   "metadata": {
    "collapsed": false,
    "deletable": true,
    "editable": true
   },
   "outputs": [
    {
     "data": {
      "text/plain": [
       "{'gid': <pyzoltan.core.carray.UIntArray at 0x117174c90>,\n",
       " 'pid': <pyzoltan.core.carray.IntArray at 0x117174d70>,\n",
       " 'tag': <pyzoltan.core.carray.IntArray at 0x116e1a600>}"
      ]
     },
     "execution_count": 19,
     "metadata": {},
     "output_type": "execute_result"
    }
   ],
   "source": [
    "empty.properties"
   ]
  },
  {
   "cell_type": "code",
   "execution_count": null,
   "metadata": {
    "collapsed": true,
    "deletable": true,
    "editable": true
   },
   "outputs": [],
   "source": []
  },
  {
   "cell_type": "markdown",
   "metadata": {
    "deletable": true,
    "editable": true
   },
   "source": [
    "### Adding constants\n",
    "\n",
    "Add them by passing a dictionary."
   ]
  },
  {
   "cell_type": "code",
   "execution_count": 20,
   "metadata": {
    "collapsed": false,
    "deletable": true,
    "editable": true
   },
   "outputs": [
    {
     "data": {
      "text/plain": [
       "array([1000])"
      ]
     },
     "execution_count": 20,
     "metadata": {},
     "output_type": "execute_result"
    }
   ],
   "source": [
    "pa = ParticleArray(name='fluid', x=[0.0, 1.0], constants={'rho0': 1000})\n",
    "pa.rho0"
   ]
  },
  {
   "cell_type": "code",
   "execution_count": 21,
   "metadata": {
    "collapsed": false,
    "deletable": true,
    "editable": true
   },
   "outputs": [
    {
     "data": {
      "text/plain": [
       "{'rho0': <pyzoltan.core.carray.LongArray at 0x11718a668>}"
      ]
     },
     "execution_count": 21,
     "metadata": {},
     "output_type": "execute_result"
    }
   ],
   "source": [
    "pa.constants"
   ]
  },
  {
   "cell_type": "markdown",
   "metadata": {
    "deletable": true,
    "editable": true
   },
   "source": [
    "#### Exercises\n",
    "\n",
    "- Create different kinds of constants and experiment\n",
    "- Create a vector or a 2d array.  What happens to a 2d array?"
   ]
  },
  {
   "cell_type": "code",
   "execution_count": 5,
   "metadata": {
    "collapsed": true,
    "deletable": true,
    "editable": true
   },
   "outputs": [],
   "source": [
    "import numpy as np"
   ]
  },
  {
   "cell_type": "code",
   "execution_count": 6,
   "metadata": {
    "collapsed": true,
    "deletable": true,
    "editable": true
   },
   "outputs": [],
   "source": [
    "pa = ParticleArray(name='f', x=[0.0, 1.0], \n",
    "                   constants=\n",
    "                   {'a': 1, 'b': [1,2,3], 'c': np.identity(10)})"
   ]
  },
  {
   "cell_type": "code",
   "execution_count": 7,
   "metadata": {
    "collapsed": false,
    "deletable": true,
    "editable": true
   },
   "outputs": [
    {
     "data": {
      "text/plain": [
       "{'a': <pyzoltan.core.carray.LongArray at 0x11a91e578>,\n",
       " 'b': <pyzoltan.core.carray.LongArray at 0x11a91e5f0>,\n",
       " 'c': <pyzoltan.core.carray.DoubleArray at 0x11a91ec08>}"
      ]
     },
     "execution_count": 7,
     "metadata": {},
     "output_type": "execute_result"
    }
   ],
   "source": [
    "pa.constants"
   ]
  },
  {
   "cell_type": "code",
   "execution_count": 25,
   "metadata": {
    "collapsed": false,
    "deletable": true,
    "editable": true
   },
   "outputs": [
    {
     "data": {
      "text/plain": [
       "array([1., 0., 0., 0., 0., 0., 0., 0., 0., 0., 0., 1., 0., 0., 0., 0., 0.,\n",
       "       0., 0., 0., 0., 0., 1., 0., 0., 0., 0., 0., 0., 0., 0., 0., 0., 1.,\n",
       "       0., 0., 0., 0., 0., 0., 0., 0., 0., 0., 1., 0., 0., 0., 0., 0., 0.,\n",
       "       0., 0., 0., 0., 1., 0., 0., 0., 0., 0., 0., 0., 0., 0., 0., 1., 0.,\n",
       "       0., 0., 0., 0., 0., 0., 0., 0., 0., 1., 0., 0., 0., 0., 0., 0., 0.,\n",
       "       0., 0., 0., 1., 0., 0., 0., 0., 0., 0., 0., 0., 0., 0., 1.])"
      ]
     },
     "execution_count": 25,
     "metadata": {},
     "output_type": "execute_result"
    }
   ],
   "source": [
    "pa.c"
   ]
  },
  {
   "cell_type": "markdown",
   "metadata": {
    "deletable": true,
    "editable": true
   },
   "source": [
    "### Particle array methods\n",
    "\n",
    "There are many methods but some more useful than others.  Let us explore this\n",
    "\n",
    "- `pa.get_number_of_particles()`\n",
    "\n",
    "\n",
    "- `pa.add_constant()`\n",
    "- `pa.add_property(...)`\n",
    "- `pa.add_particles()`\n",
    "\n",
    "- `pa.extend(n)`\n",
    "- `pa.extract_particles(...)`\n",
    "- `pa.remove_particles()`\n",
    "- `pa.remove_property(prop)`\n",
    "- `pa.remove_tagged_particles(tag)`\n",
    "\n",
    "\n",
    "The output property arrays is an important attribute.  It is what determines what is dumped to disk when you save particle arrays or run simulations.\n",
    "\n",
    "- `pa.set_output_arrays(list)`\n",
    "- `pa.output_property_arrays`\n",
    "- `pa.add_output_arrays(list)`\n",
    "\n",
    "####  Exercise\n",
    "\n",
    "- Explore all of the above methods.\n"
   ]
  },
  {
   "cell_type": "code",
   "execution_count": 26,
   "metadata": {
    "collapsed": false,
    "deletable": true,
    "editable": true
   },
   "outputs": [
    {
     "data": {
      "text/plain": [
       "[]"
      ]
     },
     "execution_count": 26,
     "metadata": {},
     "output_type": "execute_result"
    }
   ],
   "source": [
    "pa.output_property_arrays"
   ]
  },
  {
   "cell_type": "code",
   "execution_count": 1,
   "metadata": {
    "collapsed": false
   },
   "outputs": [
    {
     "ename": "NameError",
     "evalue": "name 'np' is not defined",
     "output_type": "error",
     "traceback": [
      "\u001b[0;31m---------------------------------------------------------------------------\u001b[0m",
      "\u001b[0;31mNameError\u001b[0m                                 Traceback (most recent call last)",
      "\u001b[0;32m<ipython-input-1-ef977b05f4a2>\u001b[0m in \u001b[0;36m<module>\u001b[0;34m()\u001b[0m\n\u001b[0;32m----> 1\u001b[0;31m \u001b[0mtype\u001b[0m\u001b[0;34m(\u001b[0m\u001b[0mnp\u001b[0m\u001b[0;34m.\u001b[0m\u001b[0marange\u001b[0m\u001b[0;34m(\u001b[0m\u001b[0;36m10\u001b[0m\u001b[0;34m)\u001b[0m\u001b[0;34m)\u001b[0m\u001b[0;34m\u001b[0m\u001b[0m\n\u001b[0m",
      "\u001b[0;31mNameError\u001b[0m: name 'np' is not defined"
     ]
    }
   ],
   "source": [
    "type(np.arange(10))"
   ]
  },
  {
   "cell_type": "code",
   "execution_count": 15,
   "metadata": {
    "collapsed": false,
    "deletable": true,
    "editable": true
   },
   "outputs": [
    {
     "data": {
      "text/plain": [
       "{'gid': <pyzoltan.core.carray.UIntArray at 0x11a90e750>,\n",
       " 'pid': <pyzoltan.core.carray.IntArray at 0x11a90e600>,\n",
       " 'something': <pyzoltan.core.carray.DoubleArray at 0x11a9add70>,\n",
       " 'tag': <pyzoltan.core.carray.IntArray at 0x111ce5fa0>,\n",
       " 'x': <pyzoltan.core.carray.DoubleArray at 0x11a9176e0>}"
      ]
     },
     "execution_count": 15,
     "metadata": {},
     "output_type": "execute_result"
    }
   ],
   "source": [
    "pa.add_property('something')\n",
    "pa.x = np.array([1.3,1.2])\n",
    "pa.something = np.array([1,2])\n",
    "pa.properties"
   ]
  },
  {
   "cell_type": "markdown",
   "metadata": {
    "deletable": true,
    "editable": true
   },
   "source": [
    "Can also add properties with strides.  See the documentation for\n",
    "`pa.add_property(...)`\n",
    "\n",
    "here is an example\n"
   ]
  },
  {
   "cell_type": "code",
   "execution_count": 16,
   "metadata": {
    "collapsed": true,
    "deletable": true,
    "editable": true
   },
   "outputs": [],
   "source": [
    "pa.add_property('A', data=2.0, stride=2)"
   ]
  },
  {
   "cell_type": "code",
   "execution_count": 17,
   "metadata": {
    "collapsed": false,
    "deletable": true,
    "editable": true
   },
   "outputs": [
    {
     "data": {
      "text/plain": [
       "array([2., 2., 2., 2.])"
      ]
     },
     "execution_count": 17,
     "metadata": {},
     "output_type": "execute_result"
    }
   ],
   "source": [
    "# Now lets see what this does.\n",
    "pa.A"
   ]
  },
  {
   "cell_type": "markdown",
   "metadata": {
    "deletable": true,
    "editable": true
   },
   "source": [
    "The strided property behaves just like any other so when you add/remove particles the right thing is done.\n",
    "\n",
    "The `pa.add_output_arrays` is also important."
   ]
  },
  {
   "cell_type": "code",
   "execution_count": 18,
   "metadata": {
    "collapsed": false,
    "deletable": true,
    "editable": true
   },
   "outputs": [
    {
     "data": {
      "text/plain": [
       "['x']"
      ]
     },
     "execution_count": 18,
     "metadata": {},
     "output_type": "execute_result"
    }
   ],
   "source": [
    "pa.add_output_arrays(['x'])\n",
    "pa.output_property_arrays"
   ]
  },
  {
   "cell_type": "markdown",
   "metadata": {
    "collapsed": true,
    "deletable": true,
    "editable": true
   },
   "source": [
    "- `pa.get_carray(prop)`: will get you the c array.\n",
    "- `pa.get(props)`: returns properties.\n",
    "- `pa.set(**props)`: sets the properties in one go"
   ]
  },
  {
   "cell_type": "code",
   "execution_count": 53,
   "metadata": {
    "collapsed": false,
    "deletable": true,
    "editable": true
   },
   "outputs": [
    {
     "data": {
      "text/plain": [
       "array([1])"
      ]
     },
     "execution_count": 53,
     "metadata": {},
     "output_type": "execute_result"
    }
   ],
   "source": [
    "pa = ParticleArray(name='fluid', x=[1.0,2.0])\n",
    "pa.add_particles(x=[13,12])\n",
    "pa.x\n",
    "pa.add_property(name='y', data=[10,2,3,4])\n",
    "\n",
    "np.where(pa.x + pa.y < 10)[0]\n"
   ]
  },
  {
   "cell_type": "markdown",
   "metadata": {
    "deletable": true,
    "editable": true
   },
   "source": [
    "### The convenient `pysph.base.utils`\n",
    "\n",
    "- For many standard problems, one requires a bunch of additional properties.\n",
    "- Use the `pysph.base.utils` for these."
   ]
  },
  {
   "cell_type": "code",
   "execution_count": 19,
   "metadata": {
    "collapsed": true,
    "deletable": true,
    "editable": true
   },
   "outputs": [],
   "source": [
    "from pysph.base.utils import get_particle_array"
   ]
  },
  {
   "cell_type": "code",
   "execution_count": 20,
   "metadata": {
    "collapsed": true,
    "deletable": true,
    "editable": true
   },
   "outputs": [],
   "source": [
    "from pysph.base.utils import get_particle_array_wcsph, get_particle_array_tvf_fluid, get_particle_array_gasd"
   ]
  },
  {
   "cell_type": "code",
   "execution_count": 21,
   "metadata": {
    "collapsed": false,
    "deletable": true,
    "editable": true
   },
   "outputs": [
    {
     "data": {
      "text/plain": [
       "{'arho': <pyzoltan.core.carray.DoubleArray at 0x11a9ba5f0>,\n",
       " 'au': <pyzoltan.core.carray.DoubleArray at 0x11a956848>,\n",
       " 'av': <pyzoltan.core.carray.DoubleArray at 0x11a9ba1b8>,\n",
       " 'aw': <pyzoltan.core.carray.DoubleArray at 0x11a9ba140>,\n",
       " 'ax': <pyzoltan.core.carray.DoubleArray at 0x11a9ba758>,\n",
       " 'ay': <pyzoltan.core.carray.DoubleArray at 0x11a956050>,\n",
       " 'az': <pyzoltan.core.carray.DoubleArray at 0x11a9ba320>,\n",
       " 'cs': <pyzoltan.core.carray.DoubleArray at 0x11a9ba230>,\n",
       " 'div': <pyzoltan.core.carray.DoubleArray at 0x11a9baaa0>,\n",
       " 'dt_cfl': <pyzoltan.core.carray.DoubleArray at 0x11a9ada28>,\n",
       " 'dt_force': <pyzoltan.core.carray.DoubleArray at 0x11a9ba398>,\n",
       " 'gid': <pyzoltan.core.carray.UIntArray at 0x11a9aaf30>,\n",
       " 'h': <pyzoltan.core.carray.DoubleArray at 0x11a9ba668>,\n",
       " 'm': <pyzoltan.core.carray.DoubleArray at 0x11a9ba6e0>,\n",
       " 'p': <pyzoltan.core.carray.DoubleArray at 0x11a9ba7d0>,\n",
       " 'pid': <pyzoltan.core.carray.IntArray at 0x11a9aafa0>,\n",
       " 'rho': <pyzoltan.core.carray.DoubleArray at 0x11a9adc08>,\n",
       " 'rho0': <pyzoltan.core.carray.DoubleArray at 0x11a9560c8>,\n",
       " 'tag': <pyzoltan.core.carray.IntArray at 0x11a9aad70>,\n",
       " 'u': <pyzoltan.core.carray.DoubleArray at 0x11a9ba848>,\n",
       " 'u0': <pyzoltan.core.carray.DoubleArray at 0x11a9ba488>,\n",
       " 'v': <pyzoltan.core.carray.DoubleArray at 0x11a9ba938>,\n",
       " 'v0': <pyzoltan.core.carray.DoubleArray at 0x11a9adaa0>,\n",
       " 'w': <pyzoltan.core.carray.DoubleArray at 0x11a9ba8c0>,\n",
       " 'w0': <pyzoltan.core.carray.DoubleArray at 0x11a9ba578>,\n",
       " 'x': <pyzoltan.core.carray.DoubleArray at 0x11a9baa28>,\n",
       " 'x0': <pyzoltan.core.carray.DoubleArray at 0x11a9ba500>,\n",
       " 'y': <pyzoltan.core.carray.DoubleArray at 0x11a9ba9b0>,\n",
       " 'y0': <pyzoltan.core.carray.DoubleArray at 0x11a9ba2a8>,\n",
       " 'z': <pyzoltan.core.carray.DoubleArray at 0x11a9bab18>,\n",
       " 'z0': <pyzoltan.core.carray.DoubleArray at 0x11a9ba410>}"
      ]
     },
     "execution_count": 21,
     "metadata": {},
     "output_type": "execute_result"
    }
   ],
   "source": [
    "pa = get_particle_array_wcsph(name='fluid', x=[1, 2], m=3)\n",
    "pa.properties"
   ]
  },
  {
   "cell_type": "code",
   "execution_count": null,
   "metadata": {
    "collapsed": true,
    "deletable": true,
    "editable": true
   },
   "outputs": [],
   "source": []
  },
  {
   "cell_type": "markdown",
   "metadata": {
    "deletable": true,
    "editable": true
   },
   "source": [
    "#### Exercises\n",
    "\n",
    "- Create particles inside a disk of radius 1.\n",
    "- Visualize the particle positions.\n",
    "- Create a WCSPH compatible particle array with these points."
   ]
  },
  {
   "cell_type": "code",
   "execution_count": 58,
   "metadata": {
    "collapsed": true,
    "deletable": true,
    "editable": true
   },
   "outputs": [],
   "source": [
    "%matplotlib inline\n",
    "from matplotlib import pyplot as plt"
   ]
  },
  {
   "cell_type": "code",
   "execution_count": 70,
   "metadata": {
    "collapsed": false,
    "deletable": true,
    "editable": true
   },
   "outputs": [
    {
     "data": {
      "text/plain": [
       "array([-0.26530612, -0.2244898 , -0.18367347, ...,  0.18367347,\n",
       "        0.2244898 ,  0.26530612])"
      ]
     },
     "execution_count": 70,
     "metadata": {},
     "output_type": "execute_result"
    },
    {
     "data": {
      "image/png": "[encoded data removed]",
      "text/plain": [
       "<Figure size 432x288 with 1 Axes>"
      ]
     },
     "metadata": {},
     "output_type": "display_data"
    }
   ],
   "source": [
    "x = np.linspace(-1,1,50)\n",
    "y = np.linspace(-1,1,50)\n",
    "xm, ym = np.meshgrid(x, y)\n",
    "condition = np.where((xm**2 + ym**2) <= 1)\n",
    "plt.scatter(xm, ym)\n",
    "xm, ym = xm[condition], ym[condition]\n",
    "plt.scatter(xm, ym)\n"
   ]
  },
  {
   "cell_type": "code",
   "execution_count": 73,
   "metadata": {
    "collapsed": false
   },
   "outputs": [
    {
     "data": {
      "text/plain": [
       "<matplotlib.collections.PathCollection at 0x124ff47d0>"
      ]
     },
     "execution_count": 73,
     "metadata": {},
     "output_type": "execute_result"
    },
    {
     "data": {
      "image/png": "[encoded data removed]",
      "text/plain": [
       "<Figure size 432x288 with 1 Axes>"
      ]
     },
     "metadata": {},
     "output_type": "display_data"
    }
   ],
   "source": [
    "plt.scatter(xm, ym)"
   ]
  },
  {
   "cell_type": "code",
   "execution_count": 74,
   "metadata": {
    "collapsed": true
   },
   "outputs": [],
   "source": [
    "pa = get_particle_array_wcsph(name='fluid', x=xm, y=ym)"
   ]
  },
  {
   "cell_type": "markdown",
   "metadata": {
    "deletable": true,
    "editable": true
   },
   "source": [
    "#### Solution"
   ]
  },
  {
   "cell_type": "code",
   "execution_count": 76,
   "metadata": {
    "collapsed": false,
    "deletable": true,
    "editable": true
   },
   "outputs": [
    {
     "data": {
      "text/plain": [
       "<matplotlib.collections.PathCollection at 0x1250d9fd0>"
      ]
     },
     "execution_count": 76,
     "metadata": {},
     "output_type": "execute_result"
    },
    {
     "data": {
      "image/png": "[encoded data removed]",
      "text/plain": [
       "<Figure size 432x288 with 1 Axes>"
      ]
     },
     "metadata": {},
     "output_type": "display_data"
    }
   ],
   "source": [
    "# %load solutions/particles_in_disk.py\n",
    "import numpy as np\n",
    "from pysph.base.utils import get_particle_array_wcsph\n",
    "x, y = np.mgrid[-1:1:50j, -1:1:50j]\n",
    "mask = x*x + y*y < 1.0\n",
    "pa = get_particle_array_wcsph(name='fluid', x=x[mask], y=y[mask])\n",
    "plt.scatter(pa.x, pa.y, marker='.')"
   ]
  },
  {
   "cell_type": "code",
   "execution_count": null,
   "metadata": {
    "collapsed": true,
    "deletable": true,
    "editable": true
   },
   "outputs": [],
   "source": []
  }
 ],
 "metadata": {
  "kernelspec": {
   "display_name": "Python 2",
   "language": "python",
   "name": "python2"
  },
  "language_info": {
   "codemirror_mode": {
    "name": "ipython",
    "version": 2
   },
   "file_extension": ".py",
   "mimetype": "text/x-python",
   "name": "python",
   "nbconvert_exporter": "python",
   "pygments_lexer": "ipython2",
   "version": "2.7.15"
  }
 },
 "nbformat": 4,
 "nbformat_minor": 2
}
